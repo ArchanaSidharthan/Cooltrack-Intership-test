{
 "cells": [
  {
   "cell_type": "code",
   "execution_count": 1,
   "id": "eff9461c",
   "metadata": {},
   "outputs": [],
   "source": [
    "import statistics as stat\n",
    "import numpy as np\n",
    "import pandas as pd\n",
    "import seaborn as sns\n",
    "import matplotlib.pyplot as plt\n",
    "%matplotlib inline"
   ]
  },
  {
   "cell_type": "code",
   "execution_count": 2,
   "id": "0e781d79",
   "metadata": {},
   "outputs": [],
   "source": [
    "data = pd.read_csv(\"Data Analyst - Test Data - US.csv\")"
   ]
  },
  {
   "cell_type": "code",
   "execution_count": 13,
   "id": "239a7caf",
   "metadata": {},
   "outputs": [
    {
     "data": {
      "text/html": [
       "<div>\n",
       "<style scoped>\n",
       "    .dataframe tbody tr th:only-of-type {\n",
       "        vertical-align: middle;\n",
       "    }\n",
       "\n",
       "    .dataframe tbody tr th {\n",
       "        vertical-align: top;\n",
       "    }\n",
       "\n",
       "    .dataframe thead th {\n",
       "        text-align: right;\n",
       "    }\n",
       "</style>\n",
       "<table border=\"1\" class=\"dataframe\">\n",
       "  <thead>\n",
       "    <tr style=\"text-align: right;\">\n",
       "      <th></th>\n",
       "      <th>Review</th>\n",
       "      <th>Location</th>\n",
       "    </tr>\n",
       "    <tr>\n",
       "      <th>date</th>\n",
       "      <th></th>\n",
       "      <th></th>\n",
       "    </tr>\n",
       "  </thead>\n",
       "  <tbody>\n",
       "    <tr>\n",
       "      <th>2019-08-20</th>\n",
       "      <td>I was very impressed with the resort.\\n Great ...</td>\n",
       "      <td>Sebastian</td>\n",
       "    </tr>\n",
       "    <tr>\n",
       "      <th>2019-08-20</th>\n",
       "      <td>The rooms were nice the outside needs work als...</td>\n",
       "      <td>Los Angeles</td>\n",
       "    </tr>\n",
       "    <tr>\n",
       "      <th>2019-08-20</th>\n",
       "      <td>Great location! I have stayed at this hotel on...</td>\n",
       "      <td>Georgia</td>\n",
       "    </tr>\n",
       "    <tr>\n",
       "      <th>2019-08-20</th>\n",
       "      <td>The hotel was adequate for my stay. The strips...</td>\n",
       "      <td>NaN</td>\n",
       "    </tr>\n",
       "    <tr>\n",
       "      <th>2019-08-19</th>\n",
       "      <td>Great location, room was large and spacious. P...</td>\n",
       "      <td>Palm Harbor</td>\n",
       "    </tr>\n",
       "    <tr>\n",
       "      <th>2019-08-19</th>\n",
       "      <td>All the options for fun were great! Do wish th...</td>\n",
       "      <td>NaN</td>\n",
       "    </tr>\n",
       "    <tr>\n",
       "      <th>2019-08-19</th>\n",
       "      <td>Old. Musty. Motel. \\n Bath need an update asap...</td>\n",
       "      <td>NaN</td>\n",
       "    </tr>\n",
       "    <tr>\n",
       "      <th>2019-08-19</th>\n",
       "      <td>Loved the layout of the hotel and the relaxing...</td>\n",
       "      <td>NaN</td>\n",
       "    </tr>\n",
       "    <tr>\n",
       "      <th>2019-08-19</th>\n",
       "      <td>My wife and I loved everything about it. It’s ...</td>\n",
       "      <td>NaN</td>\n",
       "    </tr>\n",
       "    <tr>\n",
       "      <th>2019-08-19</th>\n",
       "      <td>rooms were very small, was told i had a compli...</td>\n",
       "      <td>NaN</td>\n",
       "    </tr>\n",
       "    <tr>\n",
       "      <th>2019-08-19</th>\n",
       "      <td>Very clean and friendly and I love the locatio...</td>\n",
       "      <td>California</td>\n",
       "    </tr>\n",
       "    <tr>\n",
       "      <th>2019-08-19</th>\n",
       "      <td>Nice and comfortable good position near the st...</td>\n",
       "      <td>NaN</td>\n",
       "    </tr>\n",
       "    <tr>\n",
       "      <th>2019-08-19</th>\n",
       "      <td>Location was great, lobby area was nice but ro...</td>\n",
       "      <td>NaN</td>\n",
       "    </tr>\n",
       "    <tr>\n",
       "      <th>2019-08-19</th>\n",
       "      <td>Quiet and at a great location. \\n Good control...</td>\n",
       "      <td>NaN</td>\n",
       "    </tr>\n",
       "    <tr>\n",
       "      <th>2019-08-19</th>\n",
       "      <td>El servicio super amables no todos en el buffe...</td>\n",
       "      <td>NaN</td>\n",
       "    </tr>\n",
       "    <tr>\n",
       "      <th>2019-08-19</th>\n",
       "      <td>Very nice and quiet and clean rooms. \\n We wil...</td>\n",
       "      <td>Redding</td>\n",
       "    </tr>\n",
       "    <tr>\n",
       "      <th>2019-08-19</th>\n",
       "      <td>Rooms were clean, updated, and beds were comfo...</td>\n",
       "      <td>NaN</td>\n",
       "    </tr>\n",
       "    <tr>\n",
       "      <th>2019-08-19</th>\n",
       "      <td>The staff was exceptionally helpful and the pr...</td>\n",
       "      <td>NaN</td>\n",
       "    </tr>\n",
       "    <tr>\n",
       "      <th>2019-08-19</th>\n",
       "      <td>It was great for what we needed, a place to sl...</td>\n",
       "      <td>NaN</td>\n",
       "    </tr>\n",
       "    <tr>\n",
       "      <th>2019-08-19</th>\n",
       "      <td>rooms were clean. we had two room and were abl...</td>\n",
       "      <td>NaN</td>\n",
       "    </tr>\n",
       "    <tr>\n",
       "      <th>2019-08-18</th>\n",
       "      <td>A little off the beaten path, but ultimately p...</td>\n",
       "      <td>NaN</td>\n",
       "    </tr>\n",
       "    <tr>\n",
       "      <th>2019-08-18</th>\n",
       "      <td>The room is tiny. The building is old and worn...</td>\n",
       "      <td>NaN</td>\n",
       "    </tr>\n",
       "    <tr>\n",
       "      <th>2019-08-18</th>\n",
       "      <td>Awesome location, easy access to sights and su...</td>\n",
       "      <td>NaN</td>\n",
       "    </tr>\n",
       "    <tr>\n",
       "      <th>2019-08-18</th>\n",
       "      <td>基本的に問題なしでした。\\n 清潔で防音も普通な方で、水回りも清潔でシャワーの水圧も問題なし...</td>\n",
       "      <td>NaN</td>\n",
       "    </tr>\n",
       "    <tr>\n",
       "      <th>2019-08-18</th>\n",
       "      <td>The room did not seem clean. There was some so...</td>\n",
       "      <td>Jacksonville</td>\n",
       "    </tr>\n",
       "    <tr>\n",
       "      <th>2019-08-18</th>\n",
       "      <td>Great location and friendly staff. Room with e...</td>\n",
       "      <td>NaN</td>\n",
       "    </tr>\n",
       "    <tr>\n",
       "      <th>2019-08-17</th>\n",
       "      <td>Real nice love to go back soon \\n I will recom...</td>\n",
       "      <td>NaN</td>\n",
       "    </tr>\n",
       "    <tr>\n",
       "      <th>2019-08-17</th>\n",
       "      <td>Beautiful hotel. Friendly, helpful staff. Walk...</td>\n",
       "      <td>NaN</td>\n",
       "    </tr>\n",
       "    <tr>\n",
       "      <th>2019-08-17</th>\n",
       "      <td>Beautiful Art Deco building, Foyer is very orn...</td>\n",
       "      <td>NaN</td>\n",
       "    </tr>\n",
       "    <tr>\n",
       "      <th>2019-08-17</th>\n",
       "      <td>En general excelente. Fantástica situación\\n D...</td>\n",
       "      <td>España</td>\n",
       "    </tr>\n",
       "  </tbody>\n",
       "</table>\n",
       "</div>"
      ],
      "text/plain": [
       "                                                       Review      Location\n",
       "date                                                                       \n",
       "2019-08-20  I was very impressed with the resort.\\n Great ...     Sebastian\n",
       "2019-08-20  The rooms were nice the outside needs work als...   Los Angeles\n",
       "2019-08-20  Great location! I have stayed at this hotel on...       Georgia\n",
       "2019-08-20  The hotel was adequate for my stay. The strips...           NaN\n",
       "2019-08-19  Great location, room was large and spacious. P...   Palm Harbor\n",
       "2019-08-19  All the options for fun were great! Do wish th...           NaN\n",
       "2019-08-19  Old. Musty. Motel. \\n Bath need an update asap...           NaN\n",
       "2019-08-19  Loved the layout of the hotel and the relaxing...           NaN\n",
       "2019-08-19  My wife and I loved everything about it. It’s ...           NaN\n",
       "2019-08-19  rooms were very small, was told i had a compli...           NaN\n",
       "2019-08-19  Very clean and friendly and I love the locatio...    California\n",
       "2019-08-19  Nice and comfortable good position near the st...           NaN\n",
       "2019-08-19  Location was great, lobby area was nice but ro...           NaN\n",
       "2019-08-19  Quiet and at a great location. \\n Good control...           NaN\n",
       "2019-08-19  El servicio super amables no todos en el buffe...           NaN\n",
       "2019-08-19  Very nice and quiet and clean rooms. \\n We wil...       Redding\n",
       "2019-08-19  Rooms were clean, updated, and beds were comfo...           NaN\n",
       "2019-08-19  The staff was exceptionally helpful and the pr...           NaN\n",
       "2019-08-19  It was great for what we needed, a place to sl...           NaN\n",
       "2019-08-19  rooms were clean. we had two room and were abl...           NaN\n",
       "2019-08-18  A little off the beaten path, but ultimately p...           NaN\n",
       "2019-08-18  The room is tiny. The building is old and worn...           NaN\n",
       "2019-08-18  Awesome location, easy access to sights and su...           NaN\n",
       "2019-08-18  基本的に問題なしでした。\\n 清潔で防音も普通な方で、水回りも清潔でシャワーの水圧も問題なし...           NaN\n",
       "2019-08-18  The room did not seem clean. There was some so...  Jacksonville\n",
       "2019-08-18  Great location and friendly staff. Room with e...           NaN\n",
       "2019-08-17  Real nice love to go back soon \\n I will recom...           NaN\n",
       "2019-08-17  Beautiful hotel. Friendly, helpful staff. Walk...           NaN\n",
       "2019-08-17  Beautiful Art Deco building, Foyer is very orn...           NaN\n",
       "2019-08-17  En general excelente. Fantástica situación\\n D...        España"
      ]
     },
     "execution_count": 13,
     "metadata": {},
     "output_type": "execute_result"
    }
   ],
   "source": [
    "data.head(30)"
   ]
  },
  {
   "cell_type": "code",
   "execution_count": 4,
   "id": "abca805a",
   "metadata": {},
   "outputs": [
    {
     "data": {
      "text/plain": [
       "(6448, 3)"
      ]
     },
     "execution_count": 4,
     "metadata": {},
     "output_type": "execute_result"
    }
   ],
   "source": [
    "data.shape"
   ]
  },
  {
   "cell_type": "code",
   "execution_count": 5,
   "id": "37208570",
   "metadata": {},
   "outputs": [
    {
     "data": {
      "text/plain": [
       "Review       0.852978\n",
       "date         0.000000\n",
       "Location    73.464640\n",
       "dtype: float64"
      ]
     },
     "execution_count": 5,
     "metadata": {},
     "output_type": "execute_result"
    }
   ],
   "source": [
    "data.isnull().sum() / len(data) * 100"
   ]
  },
  {
   "cell_type": "markdown",
   "id": "07a4de82",
   "metadata": {},
   "source": [
    "# Date Analysis:"
   ]
  },
  {
   "cell_type": "code",
   "execution_count": 6,
   "id": "3a49a574",
   "metadata": {},
   "outputs": [
    {
     "data": {
      "image/png": "[encoded data removed]",
      "text/plain": [
       "<Figure size 432x288 with 1 Axes>"
      ]
     },
     "metadata": {
      "needs_background": "light"
     },
     "output_type": "display_data"
    }
   ],
   "source": [
    "\n",
    "data['date'] = pd.to_datetime(data['date'])\n",
    "data.set_index('date', inplace=True)\n",
    "monthly_reviews = data.resample('M').size()\n",
    "\n",
    "plt.plot(monthly_reviews)\n",
    "plt.title('Monthly Review Count Over Time')\n",
    "plt.xlabel('Date')\n",
    "plt.ylabel('Review Count')\n",
    "plt.show()\n"
   ]
  },
  {
   "cell_type": "markdown",
   "id": "7e69b31b",
   "metadata": {},
   "source": [
    "# Insight 1.\n",
    "Highest review on jan 2019\n",
    "lowest was at Sep 2019\n",
    "The count of reviews within year fluctuating "
   ]
  },
  {
   "cell_type": "code",
   "execution_count": 7,
   "id": "997e083e",
   "metadata": {},
   "outputs": [
    {
     "data": {
      "text/plain": [
       "1082"
      ]
     },
     "execution_count": 7,
     "metadata": {},
     "output_type": "execute_result"
    }
   ],
   "source": [
    "data['Location'].nunique()"
   ]
  },
  {
   "cell_type": "code",
   "execution_count": 8,
   "id": "efcda7d5",
   "metadata": {},
   "outputs": [
    {
     "data": {
      "text/plain": [
       "array(['Sebastian', 'Los Angeles', 'Georgia', ..., 'India', 'Malaysia',\n",
       "       'Trinidad and Tobago'], dtype=object)"
      ]
     },
     "execution_count": 8,
     "metadata": {},
     "output_type": "execute_result"
    }
   ],
   "source": [
    "data['Location'].unique()"
   ]
  },
  {
   "cell_type": "code",
   "execution_count": 9,
   "id": "4d75a3cc",
   "metadata": {},
   "outputs": [
    {
     "data": {
      "image/png": "[encoded data removed]",
      "text/plain": [
       "<Figure size 864x432 with 1 Axes>"
      ]
     },
     "metadata": {
      "needs_background": "light"
     },
     "output_type": "display_data"
    }
   ],
   "source": [
    "\n",
    "location_review_counts = data['Location'].value_counts().head(10)\n",
    "\n",
    "plt.figure(figsize=(12, 6))\n",
    "sns.barplot(x=location_review_counts.index, y=location_review_counts.values)\n",
    "plt.title('Top 10 Locations by Review Count')\n",
    "plt.xlabel('Location')\n",
    "plt.ylabel('Review Count')\n",
    "plt.xticks(rotation=45)\n",
    "plt.show()\n"
   ]
  },
  {
   "cell_type": "markdown",
   "id": "8b7e4a6e",
   "metadata": {},
   "source": [
    "# Insight 2:\n",
    "Highest Number of review from the united states, "
   ]
  },
  {
   "cell_type": "code",
   "execution_count": 10,
   "id": "2e2cf567",
   "metadata": {
    "scrolled": true
   },
   "outputs": [
    {
     "data": {
      "image/png": "[encoded data removed]",
      "text/plain": [
       "<Figure size 432x288 with 1 Axes>"
      ]
     },
     "metadata": {
      "needs_background": "light"
     },
     "output_type": "display_data"
    }
   ],
   "source": [
    "from sklearn.feature_extraction.text import CountVectorizer\n",
    "\n",
    "vectorizer = CountVectorizer(stop_words='english', max_features=10)\n",
    "X = vectorizer.fit_transform(data['Review'].dropna())\n",
    "features = vectorizer.get_feature_names_out()\n",
    "\n",
    "top_keywords = pd.DataFrame(X.toarray(), columns=features).sum().sort_values(ascending=False)\n",
    "top_keywords.plot(kind='bar')\n",
    "plt.title('Top 10 Keywords in Reviews')\n",
    "plt.xlabel('Keywords')\n",
    "plt.ylabel('Frequency')\n",
    "plt.show()\n"
   ]
  },
  {
   "cell_type": "markdown",
   "id": "fad29598",
   "metadata": {},
   "source": [
    "# Insight 3:\n",
    "Most used Word in review is Read"
   ]
  },
  {
   "cell_type": "code",
   "execution_count": null,
   "id": "08e054b4",
   "metadata": {},
   "outputs": [],
   "source": []
  },
  {
   "cell_type": "code",
   "execution_count": null,
   "id": "ece05c02",
   "metadata": {},
   "outputs": [],
   "source": [
    "!pip install textblob\n"
   ]
  },
  {
   "cell_type": "code",
   "execution_count": null,
   "id": "822db14a",
   "metadata": {},
   "outputs": [],
   "source": [
    "from textblob import TextBlob\n",
    "\n",
    "# Assuming 'data' is your DataFrame\n",
    "data['Sentiment'] = data['Review'].apply(lambda x: TextBlob(str(x)).sentiment.polarity)\n",
    "sns.histplot(data['Sentiment'], bins=30, kde=True)\n",
    "plt.title('Distribution of Sentiments in Reviews')\n",
    "plt.xlabel('Sentiment Polarity')\n",
    "plt.show()\n"
   ]
  },
  {
   "cell_type": "markdown",
   "id": "88e8171c",
   "metadata": {},
   "source": [
    "# insight 4:\n",
    "Majority   sentiment score of reviews between 0 and 0.25 would be considered as mildly positive."
   ]
  },
  {
   "cell_type": "code",
   "execution_count": null,
   "id": "4def3cac",
   "metadata": {},
   "outputs": [],
   "source": [
    "\n",
    "\n",
    "1. Most reviews mention the location of the hotel - whether it is good, bad, or convenient. Location seems to be a key factor in guest satisfaction.\n",
    "\n",
    "2. Room cleanliness is another common theme, with reviews mentioning if rooms were clean, dirty, or outdated. Cleanliness impacts the guest experience. \n",
    "\n",
    "3. Some reviews mention specific room features like the size, beds, or bathrooms. Room size and comfort influence guest opinions.\n",
    "\n",
    "4. A number of reviews reference the hotel staff and their friendliness, helpfulness or lack thereof. Staff interactions shape the guest experience.\n",
    "\n",
    "5. Reviews run the gamut from very positive to very negative. There is a wide range in guest satisfaction and hotel quality, underscoring the need for hotels to monitor online reviews and feedback.\n"
   ]
  },
  {
   "cell_type": "code",
   "execution_count": null,
   "id": "323a4d9b",
   "metadata": {},
   "outputs": [],
   "source": []
  },
  {
   "cell_type": "code",
   "execution_count": null,
   "id": "aa192840",
   "metadata": {},
   "outputs": [],
   "source": []
  },
  {
   "cell_type": "code",
   "execution_count": null,
   "id": "a3b22c9e",
   "metadata": {},
   "outputs": [],
   "source": []
  }
 ],
 "metadata": {
  "kernelspec": {
   "display_name": "Python 3 (ipykernel)",
   "language": "python",
   "name": "python3"
  },
  "language_info": {
   "codemirror_mode": {
    "name": "ipython",
    "version": 3
   },
   "file_extension": ".py",
   "mimetype": "text/x-python",
   "name": "python",
   "nbconvert_exporter": "python",
   "pygments_lexer": "ipython3",
   "version": "3.9.12"
  }
 },
 "nbformat": 4,
 "nbformat_minor": 5
}
